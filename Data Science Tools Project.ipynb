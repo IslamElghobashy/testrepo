{
 "cells": [
  {
   "cell_type": "markdown",
   "id": "c03e3db0",
   "metadata": {},
   "source": [
    "Introduction"
   ]
  },
  {
   "cell_type": "markdown",
   "id": "2a27d043",
   "metadata": {},
   "source": [
    "data science languages\n",
    "1- Paython\n",
    "2- SQL\n",
    "3- R"
   ]
  },
  {
   "cell_type": "markdown",
   "id": "8ab17fd4",
   "metadata": {},
   "source": [
    "Data Science Libaries\n",
    "1- Paython\n",
    " A- Numpy B- Pandas C- Scipy D- Matplotlib\n",
    "2- R\n",
    " A- ggplot B- Tidyverse C-Caret D-dplyr\n",
    "\n"
   ]
  },
  {
   "cell_type": "raw",
   "id": "4ef6565a",
   "metadata": {},
   "source": [
    "1- Jupiter notebook\n",
    "2- Watson Studio\n",
    "3- Gethub\n",
    "4- Google Colab\n",
    "5-Anaconda"
   ]
  },
  {
   "cell_type": "markdown",
   "id": "c7078a99",
   "metadata": {},
   "source": [
    "Arthimitic operator:\n",
    "\n",
    "It is Normal Mathmatical Equation including (Adittion, Subtraction,Multiplication,etc)"
   ]
  },
  {
   "cell_type": "code",
   "execution_count": 2,
   "id": "c82617f8",
   "metadata": {},
   "outputs": [
    {
     "data": {
      "text/plain": [
       "2"
      ]
     },
     "execution_count": 2,
     "metadata": {},
     "output_type": "execute_result"
    }
   ],
   "source": [
    "1+1"
   ]
  },
  {
   "cell_type": "code",
   "execution_count": 3,
   "id": "b6f6e913",
   "metadata": {},
   "outputs": [
    {
     "data": {
      "text/plain": [
       "50"
      ]
     },
     "execution_count": 3,
     "metadata": {},
     "output_type": "execute_result"
    }
   ],
   "source": [
    "10*5"
   ]
  },
  {
   "cell_type": "code",
   "execution_count": 4,
   "id": "4d39b896",
   "metadata": {},
   "outputs": [
    {
     "data": {
      "text/plain": [
       "5.0"
      ]
     },
     "execution_count": 4,
     "metadata": {},
     "output_type": "execute_result"
    }
   ],
   "source": [
    "Min = 300\n",
    "Hours = Min/60\n",
    "Hours"
   ]
  },
  {
   "cell_type": "markdown",
   "id": "23001a42",
   "metadata": {},
   "source": [
    "1- Numbers\n",
    "2- Strings\n",
    "3- Booleon\n",
    "4- Date\n",
    "5- Variables"
   ]
  },
  {
   "cell_type": "code",
   "execution_count": null,
   "id": "c2ba1e04",
   "metadata": {},
   "outputs": [],
   "source": []
  }
 ],
 "metadata": {
  "kernelspec": {
   "display_name": "Python 3 (ipykernel)",
   "language": "python",
   "name": "python3"
  },
  "language_info": {
   "codemirror_mode": {
    "name": "ipython",
    "version": 3
   },
   "file_extension": ".py",
   "mimetype": "text/x-python",
   "name": "python",
   "nbconvert_exporter": "python",
   "pygments_lexer": "ipython3",
   "version": "3.9.13"
  }
 },
 "nbformat": 4,
 "nbformat_minor": 5
}
